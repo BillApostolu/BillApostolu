{
 "cells": [
  {
   "cell_type": "code",
   "execution_count": 17,
   "id": "c50db261",
   "metadata": {},
   "outputs": [],
   "source": [
    "import numpy as np\n",
    "import matplotlib.pyplot as plt"
   ]
  },
  {
   "cell_type": "markdown",
   "id": "fa4b2351",
   "metadata": {},
   "source": [
    "Σώμα εκτινάσσεται κατακόρυφα με φορά προς τα επάνω με αρχική ταχύτητα 20 m/s.\n",
    "# Α Ερώτημα\n",
    "Χρησιμοποιώντας τη μέθοδο Euler, κατασκευάστε υπολογιστικό αλγόριθμο που να περιγράφει την κίνηση του σώματος. Υπολογίστε στον αλγόριθμό σας το μέγιστο ύψος στο οποίο θα φτάσει, καθώς και το χρόνο στον οποίο θα πέσει πάλι στο έδαφος. "
   ]
  },
  {
   "cell_type": "code",
   "execution_count": 1,
   "id": "cdd6d61e",
   "metadata": {},
   "outputs": [],
   "source": [
    "def euler_method(y0, u0, t0, g, dt):\n",
    "    y = y0\n",
    "    u = u0\n",
    "    t = t0\n",
    "    y_values = [y]\n",
    "    u_values = [u]\n",
    "    t_values = [t]\n",
    "    while y >= 0:\n",
    "        y += u*dt\n",
    "        u -= g*dt\n",
    "        t += dt\n",
    "        y_values.append(y)\n",
    "        u_values.append(u)\n",
    "        t_values.append(t)\n",
    "    megisto_upsos = max(y_values)\n",
    "    xronos = t_values[-1]\n",
    "    return megisto_upsos , xronos"
   ]
  },
  {
   "cell_type": "markdown",
   "id": "2d641c7f",
   "metadata": {},
   "source": [
    "# Β Ερώτημα\n",
    "Με χρονικό βήμα 1s, εφαρμόστε τον αλγόριθμό σας για να εκτιμήσετε τα δύο παραπάνω μεγέθη. H αντίσταση του αέρα είναι αμελητέα και $g=10 m/s^2$."
   ]
  },
  {
   "cell_type": "code",
   "execution_count": 2,
   "id": "5727f94a",
   "metadata": {},
   "outputs": [
    {
     "name": "stdout",
     "output_type": "stream",
     "text": [
      "Με χρονικό βήμα 1s, βρίσκουμε ότι το μέγιστο ύψος που θα φτάσει το σώμα είναι 30m σε χρόνο 6s.\n"
     ]
    }
   ],
   "source": [
    "upsos , time = euler_method(0 , 20 , 0 , 10 , 1)\n",
    "print(f'Με βήμα 1s βρίσκουμε πως το μέγιστο ύψος που θα φτάσει το σώμα είναι {upsos}m σε χρόνο {time}s.')"
   ]
  }
 ],
 "metadata": {
  "kernelspec": {
   "display_name": "Python 3 (ipykernel)",
   "language": "python",
   "name": "python3"
  },
  "language_info": {
   "codemirror_mode": {
    "name": "ipython",
    "version": 3
   },
   "file_extension": ".py",
   "mimetype": "text/x-python",
   "name": "python",
   "nbconvert_exporter": "python",
   "pygments_lexer": "ipython3",
   "version": "3.11.5"
  }
 },
 "nbformat": 4,
 "nbformat_minor": 5
}
