{
 "cells": [
  {
   "cell_type": "code",
   "execution_count": 3,
   "id": "081b98ac",
   "metadata": {},
   "outputs": [],
   "source": [
    "import numpy as np\n",
    "import matplotlib.pyplot as plt\n",
    "import math as math\n",
    "def U(): return np.random.rand()"
   ]
  },
  {
   "cell_type": "code",
   "execution_count": 4,
   "id": "9869bc11",
   "metadata": {},
   "outputs": [],
   "source": [
    "def d(x,y): return (5*(x**2+y**2))/(648*math.pi)"
   ]
  },
  {
   "cell_type": "code",
   "execution_count": 5,
   "id": "83febbf9",
   "metadata": {},
   "outputs": [
    {
     "name": "stdout",
     "output_type": "stream",
     "text": [
      "Η τιμή της μάζας είναι: 1.287 +- 0.026\n"
     ]
    }
   ],
   "source": [
    "R = 3 #ακτίνα \n",
    "N, n, sum1, sum2 = 1000, 0, 0, 0 \n",
    "L = (4*math.pi*R**3)/3 #όγκος\n",
    "\n",
    "for i in range(N):\n",
    "    x = 2*R*U() - R\n",
    "    y = 2*R*U() - R\n",
    "    if x**2 + y**2 < R**2:\n",
    "        n += 1 \n",
    "        dens = d(x,y)\n",
    "        sum1 += dens\n",
    "        sum2 += dens**2\n",
    "mean1 = sum1/n\n",
    "M = L*mean1\n",
    "mean2 = sum2/n\n",
    "dM = (L* (mean2 - mean1**2)**0.5)/n**0.5\n",
    "print('Η τιμή της μάζας είναι:',round(M,3), '+-',round(dM,3))"
   ]
  }
 ],
 "metadata": {
  "kernelspec": {
   "display_name": "Python 3 (ipykernel)",
   "language": "python",
   "name": "python3"
  },
  "language_info": {
   "codemirror_mode": {
    "name": "ipython",
    "version": 3
   },
   "file_extension": ".py",
   "mimetype": "text/x-python",
   "name": "python",
   "nbconvert_exporter": "python",
   "pygments_lexer": "ipython3",
   "version": "3.11.5"
  }
 },
 "nbformat": 4,
 "nbformat_minor": 5
}
