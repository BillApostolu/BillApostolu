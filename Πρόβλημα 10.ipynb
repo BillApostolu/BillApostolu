{
 "cells": [
  {
   "cell_type": "code",
   "execution_count": 1,
   "id": "bf3af762",
   "metadata": {},
   "outputs": [],
   "source": [
    "import numpy as np\n",
    "import matplotlib.pyplot as plt\n",
    "import math"
   ]
  },
  {
   "cell_type": "code",
   "execution_count": 2,
   "id": "d4f9e350",
   "metadata": {},
   "outputs": [
    {
     "name": "stdout",
     "output_type": "stream",
     "text": [
      "Η τιμή του ολοκληρώματος είναι: 3.038 +- 0.031\n"
     ]
    }
   ],
   "source": [
    "def regular_vs_random_sampling(function,xmin,xmax,N): \n",
    "\n",
    "    x_regular_grid = np.arange(xmax-xmin+1)+xmin  \n",
    "    y_regular_grid = function(x_regular_grid) \n",
    "\n",
    "    x_random_grid = np.unique(np.random.uniform(xmin,xmax,N)) \n",
    "    y_random_grid = function(x_random_grid) \n",
    "\n",
    "    avg = np.average(y_random_grid)\n",
    "    avg2= np.average(y_random_grid**2)\n",
    "\n",
    "    L=xmax-xmin\n",
    "\n",
    "    I = L*avg\n",
    "    dI= L*np.sqrt(avg2-avg**2)/ np.sqrt(N)\n",
    "    \n",
    "    return I, dI\n",
    "\n",
    "def X(x): return 1/x   \n",
    "\n",
    "I,dI= regular_vs_random_sampling(X,0.5,10.5,10000)\n",
    "\n",
    "print('Η τιμή του ολοκληρώματος είναι:',round(I,3), '+-',round(dI,3))"
   ]
  },
  {
   "cell_type": "code",
   "execution_count": 3,
   "id": "85cd1e90",
   "metadata": {},
   "outputs": [
    {
     "name": "stdout",
     "output_type": "stream",
     "text": [
      "n= 10000\n",
      "Η τιμή του ολοκληρώματος είναι: 3.049 +- 0.031\n"
     ]
    }
   ],
   "source": [
    "def X(x): return 1/x\n",
    "def U(): return np.random.rand()\n",
    "N, n, xmax, xmin, sum1, sum2 = 10000, 0, 10.5, 0.5, 0, 0\n",
    "L = xmax - xmin #πλα΄τος ολοκλ΄ήρωσης\n",
    "\n",
    "for i in range(N):\n",
    "    x = U()*(xmax-xmin)+xmin\n",
    "    if xmin < x < xmax: \n",
    "        n += 1 #το πλήθος των σημειών εντός\n",
    "        X(x)\n",
    "        sum1 += X(x)\n",
    "        sum2 += X(x)**2\n",
    "\n",
    "mean1 = sum1/n\n",
    "I = L * mean1\n",
    "mean2 = sum2/n\n",
    "dI = (L* (mean2 - mean1**2)**0.5)/n**0.5\n",
    "print('n=',n)\n",
    "print('Η τιμή του ολοκληρώματος είναι:',round(I,3), '+-',round(dI,3))"
   ]
  }
 ],
 "metadata": {
  "kernelspec": {
   "display_name": "Python 3 (ipykernel)",
   "language": "python",
   "name": "python3"
  },
  "language_info": {
   "codemirror_mode": {
    "name": "ipython",
    "version": 3
   },
   "file_extension": ".py",
   "mimetype": "text/x-python",
   "name": "python",
   "nbconvert_exporter": "python",
   "pygments_lexer": "ipython3",
   "version": "3.11.5"
  }
 },
 "nbformat": 4,
 "nbformat_minor": 5
}
