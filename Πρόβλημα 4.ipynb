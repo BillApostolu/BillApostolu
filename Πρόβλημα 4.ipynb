{
 "cells": [
  {
   "cell_type": "code",
   "execution_count": 1,
   "id": "40df45d2",
   "metadata": {},
   "outputs": [],
   "source": [
    "import numpy as np              \n",
    "import matplotlib.pyplot as plt\n",
    "def U(): return np.random.rand()"
   ]
  },
  {
   "cell_type": "code",
   "execution_count": 5,
   "id": "e79eb04d",
   "metadata": {},
   "outputs": [],
   "source": [
    "def X(x) : return 1/x\n",
    "a = 0.5\n",
    "b = 10.5\n",
    "N = 1000000"
   ]
  },
  {
   "cell_type": "code",
   "execution_count": 7,
   "id": "ac0a5109",
   "metadata": {},
   "outputs": [
    {
     "data": {
      "text/plain": [
       "(array([227659., 132951.,  94241.,  73009.,  60581.,  50795.,  43824.,\n",
       "         38765.,  34559.,  31302.,  28357.,  26433.,  24155.,  22789.,\n",
       "         21142.,  19923.,  18820.,  17603.,  16913.,  16179.]),\n",
       " array([ 0.50000158,  0.99999785,  1.49999413,  1.9999904 ,  2.49998668,\n",
       "         2.99998295,  3.49997923,  3.9999755 ,  4.49997178,  4.99996805,\n",
       "         5.49996433,  5.9999606 ,  6.49995688,  6.99995315,  7.49994943,\n",
       "         7.9999457 ,  8.49994198,  8.99993825,  9.49993453,  9.9999308 ,\n",
       "        10.49992708]),\n",
       " <BarContainer object of 20 artists>)"
      ]
     },
     "execution_count": 7,
     "metadata": {},
     "output_type": "execute_result"
    },
    {
     "data": {
      "image/png": "[encoded data removed]",
      "text/plain": [
       "<Figure size 432x288 with 1 Axes>"
      ]
     },
     "metadata": {
      "needs_background": "light"
     },
     "output_type": "display_data"
    }
   ],
   "source": [
    "#Μέθοδος αντίστροφου μετασχηματισμού\n",
    "reverse_t = []\n",
    "c = 1/np.log(21) #Το βρίσκω από κανονικοποίηση της X\n",
    "def F(x): return 0.5*np.exp(x/c) #Το βρίσκω από το ολοκλήρωμα της κανονικοποιημένης X στο (0.5, x)\n",
    "\n",
    "for i in range(N):\n",
    "    reverse = 0\n",
    "    F(U())\n",
    "    reverse += F(U())\n",
    "    reverse_t += [reverse]\n",
    "    \n",
    "plt.hist(reverse_t,bins=20,ec='black')"
   ]
  },
  {
   "cell_type": "code",
   "execution_count": 12,
   "id": "0cd2ff1b",
   "metadata": {},
   "outputs": [
    {
     "data": {
      "text/plain": [
       "(array([34646., 20262., 14509., 11084.,  9204.,  7690.,  6628.,  5907.,\n",
       "         5226.,  4674.,  4378.,  4024.,  3721.,  3481.,  3228.,  3025.,\n",
       "         2905.,  2737.,  2530.,  2525.]),\n",
       " array([ 0.50000884,  1.00000188,  1.49999492,  1.99998797,  2.49998101,\n",
       "         2.99997405,  3.49996709,  3.99996014,  4.49995318,  4.99994622,\n",
       "         5.49993927,  5.99993231,  6.49992535,  6.99991839,  7.49991144,\n",
       "         7.99990448,  8.49989752,  8.99989057,  9.49988361,  9.99987665,\n",
       "        10.49986969]),\n",
       " <BarContainer object of 20 artists>)"
      ]
     },
     "execution_count": 12,
     "metadata": {},
     "output_type": "execute_result"
    },
    {
     "data": {
      "image/png": "[encoded data removed]",
      "text/plain": [
       "<Figure size 432x288 with 1 Axes>"
      ]
     },
     "metadata": {
      "needs_background": "light"
     },
     "output_type": "display_data"
    }
   ],
   "source": [
    "#Μέθοδος hit or miss\n",
    "\n",
    "hit_miss = []\n",
    "Xmax = X(a)\n",
    "\n",
    "for i in range(N):\n",
    "    x = U()*(b-a) + a\n",
    "    y = U()*Xmax\n",
    "    if y < X(x): \n",
    "        hit_miss += [x]\n",
    "        \n",
    "plt.hist(hit_miss,bins=20,ec='black')"
   ]
  }
 ],
 "metadata": {
  "kernelspec": {
   "display_name": "Python 3 (ipykernel)",
   "language": "python",
   "name": "python3"
  },
  "language_info": {
   "codemirror_mode": {
    "name": "ipython",
    "version": 3
   },
   "file_extension": ".py",
   "mimetype": "text/x-python",
   "name": "python",
   "nbconvert_exporter": "python",
   "pygments_lexer": "ipython3",
   "version": "3.11.5"
  }
 },
 "nbformat": 4,
 "nbformat_minor": 5
}
