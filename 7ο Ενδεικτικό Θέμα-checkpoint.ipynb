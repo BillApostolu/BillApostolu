{
 "cells": [
  {
   "cell_type": "code",
   "execution_count": 1,
   "id": "8b63175a",
   "metadata": {},
   "outputs": [],
   "source": [
    "import numpy as np"
   ]
  },
  {
   "cell_type": "code",
   "execution_count": 2,
   "id": "bc99be5a",
   "metadata": {},
   "outputs": [],
   "source": [
    "def f(x):\n",
    "    return np.exp(x)"
   ]
  },
  {
   "cell_type": "code",
   "execution_count": 55,
   "id": "4719935a",
   "metadata": {},
   "outputs": [
    {
     "name": "stdout",
     "output_type": "stream",
     "text": [
      "Η τιμή του ολοκληρώματος με τη γενικευμένη μέθοδο Simpson είναι: 1.718861\n",
      "Η τιμή του ολοκληρώματος με αναλυτική μέθοδο είναι: 1.718282\n",
      "Η απόκλιση από το πραγματικό ολοκλήρωμα είναι: 0.0005793234175477391\n",
      "Το σφάλμα αποκοπής είναι: 0.0009438478571038351\n"
     ]
    }
   ],
   "source": [
    "def simpson(f, a, b, N):\n",
    "    h = (b-a)/N\n",
    "    int2 , int3 = 0 , 0\n",
    "    int1 = f(a) + f(b) \n",
    "    for i in range(1, N):\n",
    "        if i%2 == 1:\n",
    "            k = a + i*h\n",
    "            int2 += 4*f(k)\n",
    "        else:\n",
    "            k = a + i*h\n",
    "            int3 += 2*f(k)\n",
    "    integral = (h/3)*(int1 + int2 + int3)\n",
    "    error = (pow(h,5)/90)*f(b)\n",
    "    return integral , error\n",
    "\n",
    "I1 , error = simpson(f, 0, 1, 2)\n",
    "print(f\"Η τιμή του ολοκληρώματος με τη γενικευμένη μέθοδο Simpson είναι: {round(I1,6)}\")\n",
    "I = f(1) - f(0)\n",
    "print(f'Η τιμή του ολοκληρώματος με αναλυτική μέθοδο είναι: {round(I,6)}')\n",
    "apoklish = (I - I1)\n",
    "print(f'Η απόκλιση από το πραγματικό ολοκλήρωμα είναι: {abs(apoklish)}')\n",
    "print(f'Το σφάλμα αποκοπής είναι: {error}')"
   ]
  }
 ],
 "metadata": {
  "kernelspec": {
   "display_name": "Python 3 (ipykernel)",
   "language": "python",
   "name": "python3"
  },
  "language_info": {
   "codemirror_mode": {
    "name": "ipython",
    "version": 3
   },
   "file_extension": ".py",
   "mimetype": "text/x-python",
   "name": "python",
   "nbconvert_exporter": "python",
   "pygments_lexer": "ipython3",
   "version": "3.11.5"
  }
 },
 "nbformat": 4,
 "nbformat_minor": 5
}
