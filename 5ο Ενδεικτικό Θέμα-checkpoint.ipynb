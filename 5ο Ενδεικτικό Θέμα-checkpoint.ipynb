{
 "cells": [
  {
   "cell_type": "code",
   "execution_count": 14,
   "id": "c4ef1c1d",
   "metadata": {},
   "outputs": [],
   "source": [
    "import numpy as np\n",
    "import math\n",
    "import matplotlib.pyplot as plt"
   ]
  },
  {
   "cell_type": "markdown",
   "id": "53aa71e4",
   "metadata": {},
   "source": [
    "Σώμα ολισθαίνει σε κεκλιμένο επίπεδο μήκους 1m που σχηματίζει γωνία $30^{ο}$ με το οριζόντιο επίπεδο με\n",
    "συντελεστή τριβής ολίσθησης $\\frac{1}{2\\sqrt{3}}$. Το σώμα αφήνεται την χρονική στιγμή t=0 στο υψηλότερο σημείο του κεκλιμένου επιπέδου με μηδενική αρχική ταχύτητα. Θεωρήστε $g=10 m/s^2$. Δίδεται: sin( $30^{ο}$)=1/2.\n",
    "# Α Ερώτημα\n",
    "Κατασκευάστε υπολογιστικό αλγόριθμο που να υπολογίζει την θέση και την ταχύτητα του σώματος στο κεκλιμένο επίπεδο όσο αυτό παραμένει επάνω σε αυτό, επιλύοντας την διαφορική εξίσωση που προκύπτει για το συγκεκριμένο πρόβλημα με την μέθοδο Euler. \\\n",
    "Στον άξονα x έχουμε: \\\n",
    "$ ΣF_{x} = ma_{x} \\Rightarrow W_{x} - T = ma_{x} \\Rightarrow mgsinφ - μmgcosφ = ma_{x} \\Rightarrow gsinφ - μgcosφ = a_{x} \\Rightarrow \\frac{du_{x}}{dt} = gsinφ - μgcosφ $ \\\n",
    "Στον άξονα y έχουμε: \\\n",
    "$ ΣF_{y} = ma_{y} \\Rightarrow N - W_{y} = N - mgcosφ = ma_{y} \\Rightarrow N - mgcosφ = 0 $"
   ]
  },
  {
   "cell_type": "code",
   "execution_count": 9,
   "id": "7deca01a",
   "metadata": {},
   "outputs": [],
   "source": [
    "def euler_method(x0, y0, u0x, u0y, theta, t0, g, L, μ, dt):\n",
    "    angle = math.radians(theta)\n",
    "    x = x0\n",
    "    y = y0\n",
    "    ux = u0x\n",
    "    uy = u0y\n",
    "    u = math.sqrt(ux**2 + uy**2)\n",
    "    t = t0\n",
    "    x_values = [x]\n",
    "    y_values = [y]\n",
    "    ux_values = [ux]\n",
    "    uy_values = [uy]\n",
    "    u_values = [u]\n",
    "    t_values = [t]\n",
    "    while x <= L:\n",
    "        #Στη διεύθυνση x\n",
    "        ax = g*(math.sin(angle) - μ*math.cos(angle))\n",
    "        ux += dt*ax\n",
    "        x += dt*ux\n",
    "        #Στη διεύθυνση y\n",
    "        ay = 0\n",
    "        uy -= dt*ay\n",
    "        y += dt*uy\n",
    "        t += dt\n",
    "        v = math.sqrt(ux**2 + uy**2)\n",
    "        x_values.append(x)\n",
    "        y_values.append(y)\n",
    "        ux_values.append(ux)\n",
    "        uy_values.append(uy)\n",
    "        u_values.append(v)\n",
    "        t_values.append(t)\n",
    "    N = len(y_values)\n",
    "    for i in range(N):\n",
    "        print(f'Τη χρονική στιγμή t = {t_values[i]}s, το σώμα έχει θέση ({round(x_values[i],3)}, {round(y_values[i],3)}) και ταχύτητα {round(u_values[i],3)} m/s.')\n",
    "    return x_values , t_values"
   ]
  }
 ],
 "metadata": {
  "kernelspec": {
   "display_name": "Python 3 (ipykernel)",
   "language": "python",
   "name": "python3"
  },
  "language_info": {
   "codemirror_mode": {
    "name": "ipython",
    "version": 3
   },
   "file_extension": ".py",
   "mimetype": "text/x-python",
   "name": "python",
   "nbconvert_exporter": "python",
   "pygments_lexer": "ipython3",
   "version": "3.11.5"
  }
 },
 "nbformat": 4,
 "nbformat_minor": 5
}
