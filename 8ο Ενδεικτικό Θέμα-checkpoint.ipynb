{
 "cells": [
  {
   "cell_type": "code",
   "execution_count": 1,
   "id": "e026a350",
   "metadata": {},
   "outputs": [],
   "source": [
    "import numpy as np\n",
    "import matplotlib.pyplot as plt"
   ]
  },
  {
   "cell_type": "code",
   "execution_count": 2,
   "id": "da534736",
   "metadata": {},
   "outputs": [],
   "source": [
    "x = [1.00 , 1.01 , 1.02]\n",
    "y = [1.27 , 1.32 , 1.38]"
   ]
  },
  {
   "cell_type": "code",
   "execution_count": 3,
   "id": "3aec9839",
   "metadata": {},
   "outputs": [
    {
     "name": "stdout",
     "output_type": "stream",
     "text": [
      "Για x = 1.005, από παρεμβολή 2ης τάξης: f(1.005) = 1.2937499999999993\n",
      "Για x = 1.015, από παρεμβολή 2ης τάξης: f(1.015) = 1.3487499999999994\n"
     ]
    },
    {
     "data": {
      "image/png": "[encoded data removed]",
      "text/plain": [
       "<Figure size 432x288 with 1 Axes>"
      ]
     },
     "metadata": {
      "needs_background": "light"
     },
     "output_type": "display_data"
    }
   ],
   "source": [
    "def lagrange_secondorder(x, x_data, y_data, pos):\n",
    "    N = len(pos)\n",
    "    p2 = 0 \n",
    "    for i in range(N-2):\n",
    "        ff0 = (y_data[pos[i]] * (x - x_data[pos[i+1]]) * (x - x_data[pos[i+2]])) / ((x_data[pos[i]] - x_data[pos[i+1]]) * (x_data[pos[i]] - x_data[pos[i+2]]))\n",
    "        ff1 = (y_data[pos[i+1]] * (x - x_data[pos[i]]) * (x - x_data[pos[i+2]])) / ((x_data[pos[i+1]] - x_data[pos[i]]) * (x_data[pos[i+1]] - x_data[pos[i+2]]))\n",
    "        ff2 = (y_data[pos[i+2]] * (x - x_data[pos[i]]) * (x - x_data[pos[i+1]])) / ((x_data[pos[i+2]] - x_data[pos[i]]) * (x_data[pos[i+2]] - x_data[pos[i+1]]))\n",
    "        p2 += ff0 + ff1 + ff2\n",
    "    return p2\n",
    "\n",
    "pos = [0, 1, 2]\n",
    "\n",
    "x_values = np.arange(1, 1.03, 0.01)\n",
    "y_values = [lagrange_secondorder(x_val, x, y, pos)  for x_val in x_values]\n",
    "\n",
    "plt.xlabel('x')\n",
    "plt.ylabel('y')\n",
    "plt.scatter(x, y, label='Σημεία Δεδομένων')\n",
    "plt.plot(x_values, y_values, label='Παρεμβολή Lagrange Δεύτερης Τάξης', color='red')\n",
    "\n",
    "plt.legend()\n",
    "plt.grid(True)\n",
    "\n",
    "f1 = lagrange_secondorder(1.005, x, y, [0, 1, 2])\n",
    "print(f\"Για x = 1.005, από παρεμβολή 2ης τάξης: f(1.005) = {f1}\")\n",
    "\n",
    "f2 = lagrange_secondorder(1.015, x, y, [0, 1, 2])\n",
    "print(f\"Για x = 1.015, από παρεμβολή 2ης τάξης: f(1.015) = {f2}\")"
   ]
  },
  {
   "cell_type": "code",
   "execution_count": 32,
   "id": "dcfc1666",
   "metadata": {},
   "outputs": [],
   "source": [
    "x_new = [1.00 , 1.005 , 1.01 , 1.015 , 1.02]\n",
    "y_new = [1.27 , 1.29375 , 1.32 , 1.34875 , 1.38]"
   ]
  },
  {
   "cell_type": "code",
   "execution_count": 38,
   "id": "b15207b9",
   "metadata": {},
   "outputs": [
    {
     "name": "stdout",
     "output_type": "stream",
     "text": [
      "Για x = 1.0, από 2ης τάξης προσέγγιση παραγώγου f'(1.0) = 4.5\n",
      "Για x = 1.005, από 2ης τάξης προσέγγιση παραγώγου f'(1.005) = 5.0\n",
      "Για x = 1.01, από 2ης τάξης προσέγγιση παραγώγου f'(1.01) = 5.5\n",
      "Για x = 1.015, από 2ης τάξης προσέγγιση παραγώγου f'(1.015) = 6.0\n",
      "Για x = 1.02, από 2ης τάξης προσέγγιση παραγώγου f'(1.02) = 6.5\n"
     ]
    }
   ],
   "source": [
    "def newton_gregory(x_data, f_data, h):\n",
    "    der1 = [] \n",
    "    N = len(f_data)\n",
    "    for i in range(N):\n",
    "        if i + 2 < N:\n",
    "            rate = - (f_data[i+2] - 4*f_data[i+1] + 3*f_data[i]) / (2*h)\n",
    "            print(f'Για x = {x_data[i]}, από 2ης τάξης προσέγγιση παραγώγου f\\'({x_data[i]}) = {round(rate,4)}')\n",
    "            der1.append(rate)\n",
    "        else:\n",
    "            rate1 = (f_data[i-2] - 4*f_data[i-1] + 3*f_data[i]) / (2*h)\n",
    "            print(f'Για x = {x_data[i]}, από 2ης τάξης προσέγγιση παραγώγου f\\'({x_data[i]}) = {round(rate1,4)}')\n",
    "            der1.append(rate1)\n",
    "    return der1\n",
    "\n",
    "der1 = newton_gregory(x_new, y_new, 0.005)"
   ]
  },
  {
   "cell_type": "code",
   "execution_count": 31,
   "id": "cadf3ea5",
   "metadata": {},
   "outputs": [
    {
     "name": "stdout",
     "output_type": "stream",
     "text": [
      "Για x = 1.0, από 2ης τάξης προσέγγιση παραγώγου f\"(1.0) = 100.00000000004671\n",
      "Για x = 1.005, από 2ης τάξης προσέγγιση παραγώγου f\"(1.005) = 99.99999999997122\n",
      "Για x = 1.01, από 2ης τάξης προσέγγιση παραγώγου f\"(1.01) = 99.99999999998899\n",
      "Για x = 1.015, από 2ης τάξης προσέγγιση παραγώγου f\"(1.015) = 100.00000000000675\n",
      "Για x = 1.02, από 2ης τάξης προσέγγιση παραγώγου f\"(1.02) = 100.00000000002451\n"
     ]
    }
   ],
   "source": [
    "def newton_gregory1(x_data, f_data, h):\n",
    "    N = len(f_data)\n",
    "    for i in range(N):\n",
    "        if i + 2 < N:\n",
    "            rate = - (f_data[i+2] - 4*f_data[i+1] + 3*f_data[i]) / (2*h)\n",
    "            print(f'Για x = {x_data[i]}, από 2ης τάξης προσέγγιση παραγώγου f\\\"({x_data[i]}) = {rate}')\n",
    "        else:\n",
    "            rate1 = (f_data[i-2] - 4*f_data[i-1] + 3*f_data[i]) / (2*h)\n",
    "            print(f'Για x = {x_data[i]}, από 2ης τάξης προσέγγιση παραγώγου f\\\"({x_data[i]}) = {rate1}')\n",
    "\n",
    "newton_gregory1(x_new, der1, 0.005)"
   ]
  }
 ],
 "metadata": {
  "kernelspec": {
   "display_name": "Python 3 (ipykernel)",
   "language": "python",
   "name": "python3"
  },
  "language_info": {
   "codemirror_mode": {
    "name": "ipython",
    "version": 3
   },
   "file_extension": ".py",
   "mimetype": "text/x-python",
   "name": "python",
   "nbconvert_exporter": "python",
   "pygments_lexer": "ipython3",
   "version": "3.11.5"
  }
 },
 "nbformat": 4,
 "nbformat_minor": 5
}
