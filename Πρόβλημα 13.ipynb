{
 "cells": [
  {
   "cell_type": "code",
   "execution_count": 7,
   "id": "d39d3181",
   "metadata": {},
   "outputs": [],
   "source": [
    "import numpy as np\n",
    "import matplotlib.pyplot as plt\n",
    "import math as math\n",
    "def U(): return np.random.rand()"
   ]
  },
  {
   "cell_type": "code",
   "execution_count": 8,
   "id": "f5028efc",
   "metadata": {},
   "outputs": [],
   "source": [
    "def d(x,y): return (20*(x+y))/13"
   ]
  },
  {
   "cell_type": "code",
   "execution_count": 9,
   "id": "921d1ace",
   "metadata": {},
   "outputs": [
    {
     "name": "stdout",
     "output_type": "stream",
     "text": [
      "Η τιμή της μάζας της πλάκας είναι: 0.983 +- 0.017 .\n"
     ]
    }
   ],
   "source": [
    "N, n, sum1, sum2 = 1000, 0, 0, 0\n",
    "L = 2/3 \n",
    "for i in range(N):\n",
    "    x = U()\n",
    "    y = U()\n",
    "    if x >= 0 and y <= 1 and y >= x**2:\n",
    "        n += 1\n",
    "        dens = d(x,y)\n",
    "        sum1 += dens\n",
    "        sum2 += dens**2\n",
    "mean1 = sum1/n\n",
    "M = L*mean1\n",
    "mean2 = sum2/n\n",
    "dM = (L* (mean2 - mean1**2)**0.5)/n**0.5\n",
    "print('Η τιμή της μάζας της πλάκας είναι:',round(M,3), '+-',round(dM,3),'.')"
   ]
  },
  {
   "cell_type": "code",
   "execution_count": 10,
   "id": "0cd20826",
   "metadata": {},
   "outputs": [],
   "source": [
    "def ρ(x,y,z): return (12*(x**2 + y*z))/31"
   ]
  },
  {
   "cell_type": "code",
   "execution_count": 12,
   "id": "f9550182",
   "metadata": {},
   "outputs": [
    {
     "name": "stdout",
     "output_type": "stream",
     "text": [
      "Η τιμή της μάζας του κύβου είναι: 1.002 +- 0.008 .\n"
     ]
    }
   ],
   "source": [
    "M, ymin, ymax, zmin, zmax, m, sum3, sum4 = 1000, 1, 2, 1, 2, 0, 0, 0\n",
    "L = 1 \n",
    "for i in range(M):\n",
    "    x = U()\n",
    "    y = U()*(ymax - ymin) + ymin\n",
    "    z = U()*(zmax - zmin) + zmin\n",
    "    if 0 <= x <= 1 and 1 <= y <= 2 and 1 <= z <= 2:\n",
    "        m += 1\n",
    "        dens = ρ(x,y,z)\n",
    "        sum3 += dens\n",
    "        sum4 += dens**2\n",
    "mean3 = sum3/m\n",
    "Mass = L*mean3\n",
    "mean4 = sum4/m\n",
    "dMass = (L* (mean4 - mean3**2)**0.5)/m**0.5\n",
    "print('Η τιμή της μάζας του κύβου είναι:',round(Mass,3), '+-',round(dMass,3),'.')"
   ]
  }
 ],
 "metadata": {
  "kernelspec": {
   "display_name": "Python 3 (ipykernel)",
   "language": "python",
   "name": "python3"
  },
  "language_info": {
   "codemirror_mode": {
    "name": "ipython",
    "version": 3
   },
   "file_extension": ".py",
   "mimetype": "text/x-python",
   "name": "python",
   "nbconvert_exporter": "python",
   "pygments_lexer": "ipython3",
   "version": "3.11.5"
  }
 },
 "nbformat": 4,
 "nbformat_minor": 5
}
